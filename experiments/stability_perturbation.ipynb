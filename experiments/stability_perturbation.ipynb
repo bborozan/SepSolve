{
 "cells": [
  {
   "cell_type": "markdown",
   "metadata": {},
   "source": [
    "Function which uses Poisson distribution to perturb each element in the row count matrix by 5% on average."
   ]
  },
  {
   "cell_type": "code",
   "execution_count": 33,
   "metadata": {},
   "outputs": [],
   "source": [
    "import scanpy as sc\n",
    "import numpy as np\n",
    "\n",
    "def perturb_dataset(data, p = 0.05):\n",
    "    n, d = data.shape\n",
    "\n",
    "    # perturb each row\n",
    "    for i in range(n):\n",
    "        row = np.asarray(data[i, :])\n",
    "        lam = (row * p)\n",
    "        pois = np.random.poisson(lam, row.shape)\n",
    "        mask = np.random.random(row.shape) < 0.5 # randomly multiply with -1\n",
    "        pois[mask] *= -1   \n",
    "\n",
    "        data[i, :] += pois\n",
    "\n",
    "    # remove negative values from the matrix    \n",
    "    data[data < 0] = 0\n",
    "\n",
    "    return data"
   ]
  },
  {
   "cell_type": "markdown",
   "metadata": {},
   "source": [
    "Loading, pertrubing and preprocessing the dataset."
   ]
  },
  {
   "cell_type": "code",
   "execution_count": 34,
   "metadata": {},
   "outputs": [],
   "source": [
    "def remove_rare_cell_types(adata, labels, threshold):\n",
    "    n = len(labels)\n",
    "\n",
    "    # select 'good' labels - labels with at least 50 cells\n",
    "    cnts = labels.value_counts()\n",
    "    filtered = set(cnts[cnts >= 50])\n",
    "\n",
    "    # filter the dataset - first we get the ids\n",
    "    ids = [i for i in range(n) if labels.iloc[i] in filtered]\n",
    "\n",
    "    # modify the dataset to remove rare cell types\n",
    "    if len(ids) < n:\n",
    "        adata = adata[ids, :].copy()\n",
    "\n",
    "def get_perturbed_data(p=0.05):\n",
    "    adata = sc.datasets.paul15()\n",
    "\n",
    "    adata.X = perturb_dataset(adata.X, p = p)\n",
    "    labels = adata.obs[\"paul15_clusters\"]\n",
    "\n",
    "    # preprocess\n",
    "    remove_rare_cell_types(adata, labels, 50)\n",
    "    sc.pp.filter_genes(adata, min_cells=10)\n",
    "    sc.pp.normalize_total(adata, target_sum=1e4)\n",
    "    sc.pp.log1p(adata)\n",
    "\n",
    "    return adata.X, labels"
   ]
  },
  {
   "cell_type": "markdown",
   "metadata": {},
   "source": [
    "Use SepSolve to select $m$ marker genes on the perturbed dataset."
   ]
  },
  {
   "cell_type": "code",
   "execution_count": 35,
   "metadata": {},
   "outputs": [],
   "source": [
    "# import sepsolve\n",
    "import sys\n",
    "\n",
    "sys.path.append('../sepsolve')\n",
    "from sepsolve import get_markers\n",
    "\n",
    "def get_markers_perturbation(num_markers):\n",
    "    data, labels = get_perturbed_data(p = 0.05)\n",
    "    markers = get_markers(data, labels, num_markers)\n",
    "    return markers"
   ]
  },
  {
   "cell_type": "markdown",
   "metadata": {},
   "source": [
    "Function which computes the stability index for the given collection of marker genes using Jaccard similarity."
   ]
  },
  {
   "cell_type": "code",
   "execution_count": 36,
   "metadata": {},
   "outputs": [],
   "source": [
    "def calculate_stability(marker_collection):\n",
    "    stability = 0\n",
    "    inters = set([])\n",
    "    n = len(marker_collection)\n",
    "    \n",
    "    for i in range(n):\n",
    "        for j in range(i + 1, n):\n",
    "            inters = marker_collection[i].intersection(marker_collection[j])\n",
    "            union = marker_collection[i].union(marker_collection[j])\n",
    "            stability += len(inters) / len(union)\n",
    "    \n",
    "    stability *= 2 / (n * (n - 1))\n",
    "\n",
    "    return stability\n"
   ]
  },
  {
   "cell_type": "markdown",
   "metadata": {},
   "source": [
    "Run the perturbation test $k = 5$ times and calculate the perturbation stability index."
   ]
  },
  {
   "cell_type": "code",
   "execution_count": 48,
   "metadata": {},
   "outputs": [
    {
     "name": "stdout",
     "output_type": "stream",
     "text": [
      "Running perturbation test 1\n",
      "Running perturbation test 2\n",
      "Running perturbation test 3\n",
      "Running perturbation test 4\n",
      "Running perturbation test 5\n",
      "Perturbation stability index: 0.9384615384615386\n"
     ]
    }
   ],
   "source": [
    "k = 5\n",
    "num_markers = 25\n",
    "\n",
    "marker_collection = []\n",
    "for i in range(k):\n",
    "    print(\"Running perturbation test\", i + 1, flush=True)\n",
    "\n",
    "    # get markers on the randomly perturbed dataset\n",
    "    markers = get_markers_perturbation(num_markers)\n",
    "    marker_collection.append(set(markers))\n",
    "\n",
    "stability = calculate_stability(marker_collection)\n",
    "\n",
    "print(\"Perturbation stability index:\", stability)"
   ]
  }
 ],
 "metadata": {
  "kernelspec": {
   "display_name": "venv",
   "language": "python",
   "name": "python3"
  },
  "language_info": {
   "codemirror_mode": {
    "name": "ipython",
    "version": 3
   },
   "file_extension": ".py",
   "mimetype": "text/x-python",
   "name": "python",
   "nbconvert_exporter": "python",
   "pygments_lexer": "ipython3",
   "version": "3.10.12"
  }
 },
 "nbformat": 4,
 "nbformat_minor": 2
}
