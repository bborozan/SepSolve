{
 "cells": [
  {
   "cell_type": "markdown",
   "metadata": {},
   "source": [
    "Function which uses Poisson distribution to perturb each element in the row count matrix by 5% on average."
   ]
  },
  {
   "cell_type": "code",
   "execution_count": 21,
   "metadata": {},
   "outputs": [],
   "source": [
    "import scanpy as sc\n",
    "import numpy as np\n",
    "\n",
    "def subsample_dataset(adata, p):\n",
    "    return sc.pp.subsample(adata, fraction=p, random_state=None, copy=True)"
   ]
  },
  {
   "cell_type": "markdown",
   "metadata": {},
   "source": [
    "Loading, preprocessing and subsampling the dataset."
   ]
  },
  {
   "cell_type": "code",
   "execution_count": 22,
   "metadata": {},
   "outputs": [],
   "source": [
    "def remove_rare_cell_types(adata, labels, threshold):\n",
    "    n = len(labels)\n",
    "\n",
    "    # select 'good' labels - labels with at least 50 cells\n",
    "    cnts = labels.value_counts()\n",
    "    filtered = set(cnts[cnts >= 50])\n",
    "\n",
    "    # filter the dataset - first we get the ids\n",
    "    ids = [i for i in range(n) if labels.iloc[i] in filtered]\n",
    "\n",
    "    # modify the dataset to remove rare cell types\n",
    "    if len(ids) < n:\n",
    "        adata = adata[ids, :].copy()\n",
    "\n",
    "def get_subsampled_data(p=0.5):\n",
    "    adata = sc.datasets.paul15()\n",
    "\n",
    "    # preprocess\n",
    "    remove_rare_cell_types(adata, adata.obs[\"paul15_clusters\"], 50)\n",
    "    sc.pp.filter_genes(adata, min_cells=10)\n",
    "    sc.pp.normalize_total(adata, target_sum=1e4)\n",
    "    sc.pp.log1p(adata)\n",
    "\n",
    "    adata = subsample_dataset(adata, p)\n",
    "    labels = adata.obs[\"paul15_clusters\"]\n",
    "\n",
    "    return adata.X, labels"
   ]
  },
  {
   "cell_type": "markdown",
   "metadata": {},
   "source": [
    "Use SepSolve to select $m$ marker genes on the perturbed dataset."
   ]
  },
  {
   "cell_type": "code",
   "execution_count": 23,
   "metadata": {},
   "outputs": [],
   "source": [
    "# import sepsolve\n",
    "import sys\n",
    "\n",
    "sys.path.append('../sepsolve')\n",
    "from sepsolve import get_markers\n",
    "\n",
    "def get_markers_subsampling(num_markers):\n",
    "    data, labels = get_subsampled_data(p = 0.5)\n",
    "    markers = get_markers(data, labels, num_markers)\n",
    "    return markers"
   ]
  },
  {
   "cell_type": "markdown",
   "metadata": {},
   "source": [
    "Function which computes the stability index for the given collection of marker genes using Jaccard similarity."
   ]
  },
  {
   "cell_type": "code",
   "execution_count": 24,
   "metadata": {},
   "outputs": [],
   "source": [
    "def calculate_stability(marker_collection):\n",
    "    stability = 0\n",
    "    inters = set([])\n",
    "    n = len(marker_collection)\n",
    "    \n",
    "    for i in range(n):\n",
    "        for j in range(i + 1, n):\n",
    "            inters = marker_collection[i].intersection(marker_collection[j])\n",
    "            union = marker_collection[i].union(marker_collection[j])\n",
    "            stability += len(inters) / len(union)\n",
    "    \n",
    "    stability *= 2 / (n * (n - 1))\n",
    "\n",
    "    return stability\n"
   ]
  },
  {
   "cell_type": "markdown",
   "metadata": {},
   "source": [
    "Run the perturbation test $k = 5$ times and calculate the perturbation stability index."
   ]
  },
  {
   "cell_type": "code",
   "execution_count": 25,
   "metadata": {},
   "outputs": [
    {
     "name": "stdout",
     "output_type": "stream",
     "text": [
      "Running subsampling test 1\n",
      "Running subsampling test 2\n",
      "Running subsampling test 3\n",
      "Running subsampling test 4\n",
      "Running subsampling test 5\n",
      "Subsampling stability index: 0.7629152456738664\n"
     ]
    }
   ],
   "source": [
    "k = 5\n",
    "num_markers = 25\n",
    "\n",
    "marker_collection = []\n",
    "for i in range(k):\n",
    "    print(\"Running subsampling test\", i + 1, flush=True)\n",
    "\n",
    "    # get markers on the randomly perturbed dataset\n",
    "    markers = get_markers_subsampling(num_markers)\n",
    "    marker_collection.append(set(markers))\n",
    "\n",
    "stability = calculate_stability(marker_collection)\n",
    "\n",
    "print(\"Subsampling stability index:\", stability)"
   ]
  },
  {
   "cell_type": "code",
   "execution_count": null,
   "metadata": {},
   "outputs": [],
   "source": []
  }
 ],
 "metadata": {
  "kernelspec": {
   "display_name": "venv",
   "language": "python",
   "name": "python3"
  },
  "language_info": {
   "codemirror_mode": {
    "name": "ipython",
    "version": 3
   },
   "file_extension": ".py",
   "mimetype": "text/x-python",
   "name": "python",
   "nbconvert_exporter": "python",
   "pygments_lexer": "ipython3",
   "version": "3.10.12"
  }
 },
 "nbformat": 4,
 "nbformat_minor": 2
}
